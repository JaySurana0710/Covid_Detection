{
 "cells": [
  {
   "cell_type": "code",
   "execution_count": null,
   "id": "2b541deb",
   "metadata": {},
   "outputs": [],
   "source": [
    "from fastai.vision import *\n",
    "from torchvision.transforms import transforms\n",
    "import io\n",
    "import warnings\n",
    "warnings.filterwarnings('ignore')\n"
   ]
  },
  {
   "cell_type": "code",
   "execution_count": null,
   "id": "28403fab",
   "metadata": {},
   "outputs": [],
   "source": [
    "path = 'D:\\College\\BE\\BE PROJECT\\Dataset\\model'"
   ]
  },
  {
   "cell_type": "code",
   "execution_count": null,
   "id": "709b2bfb",
   "metadata": {},
   "outputs": [],
   "source": [
    "img = 'D:\\College\\BE\\BE PROJECT\\Pneumonia\\pneu.png'"
   ]
  },
  {
   "cell_type": "code",
   "execution_count": null,
   "id": "8c4ffade",
   "metadata": {},
   "outputs": [],
   "source": [
    "learn = load_learner(path)"
   ]
  },
  {
   "cell_type": "code",
   "execution_count": null,
   "id": "be5451e8",
   "metadata": {},
   "outputs": [],
   "source": [
    "cat , pred , probs = learn.predict(open_image(img))\n",
    "if cat==tensor(0):\n",
    "    print('Covid +ve ',probs[0])\n",
    "elif cat==tensor(1):\n",
    "    print('Normal',probs[1])\n",
    "else:\n",
    "    print('Pneumonia',probs[2])"
   ]
  }
 ],
 "metadata": {
  "kernelspec": {
   "display_name": "Python 3 (ipykernel)",
   "language": "python",
   "name": "python3"
  },
  "language_info": {
   "codemirror_mode": {
    "name": "ipython",
    "version": 3
   },
   "file_extension": ".py",
   "mimetype": "text/x-python",
   "name": "python",
   "nbconvert_exporter": "python",
   "pygments_lexer": "ipython3",
   "version": "3.9.10"
  }
 },
 "nbformat": 4,
 "nbformat_minor": 5
}
